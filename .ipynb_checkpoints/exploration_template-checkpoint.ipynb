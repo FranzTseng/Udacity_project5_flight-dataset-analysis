{
 "cells": [
  {
   "cell_type": "markdown",
   "metadata": {},
   "source": [
    "# Fight dataset 2008\n",
    "## by Franz Tseng\n",
    "\n",
    "## Preliminary Wrangling\n",
    "\n",
    "> The data contains 2389217 rows of data and 29 features about fight information in the year of 2008 ."
   ]
  },
  {
   "cell_type": "code",
   "execution_count": 1,
   "metadata": {},
   "outputs": [],
   "source": [
    "# import all packages and set plots to be embedded inline\n",
    "import numpy as np\n",
    "import pandas as pd\n",
    "import matplotlib.pyplot as plt\n",
    "import seaborn as sb\n",
    "\n",
    "%matplotlib inline"
   ]
  },
  {
   "cell_type": "markdown",
   "metadata": {},
   "source": [
    "> The 2008.csv dataset is still too large considering the RAM i have, therefore, I removed 14 features, which I won't use for the analysis, and save the neww dataset with 15 features as \"flight2008.csv\" for later use."
   ]
  },
  {
   "cell_type": "code",
   "execution_count": 2,
   "metadata": {},
   "outputs": [
    {
     "data": {
      "text/html": [
       "<div>\n",
       "<style scoped>\n",
       "    .dataframe tbody tr th:only-of-type {\n",
       "        vertical-align: middle;\n",
       "    }\n",
       "\n",
       "    .dataframe tbody tr th {\n",
       "        vertical-align: top;\n",
       "    }\n",
       "\n",
       "    .dataframe thead th {\n",
       "        text-align: right;\n",
       "    }\n",
       "</style>\n",
       "<table border=\"1\" class=\"dataframe\">\n",
       "  <thead>\n",
       "    <tr style=\"text-align: right;\">\n",
       "      <th></th>\n",
       "      <th>Name</th>\n",
       "      <th>Description</th>\n",
       "    </tr>\n",
       "  </thead>\n",
       "  <tbody>\n",
       "    <tr>\n",
       "      <th>1</th>\n",
       "      <td>Year</td>\n",
       "      <td>1987-2008</td>\n",
       "    </tr>\n",
       "    <tr>\n",
       "      <th>2</th>\n",
       "      <td>Month</td>\n",
       "      <td>12-Jan</td>\n",
       "    </tr>\n",
       "    <tr>\n",
       "      <th>3</th>\n",
       "      <td>DayofMonth</td>\n",
       "      <td>31-Jan</td>\n",
       "    </tr>\n",
       "    <tr>\n",
       "      <th>4</th>\n",
       "      <td>DayOfWeek</td>\n",
       "      <td>1 (Monday) - 7 (Sunday)</td>\n",
       "    </tr>\n",
       "    <tr>\n",
       "      <th>5</th>\n",
       "      <td>DepTime</td>\n",
       "      <td>actual departure time (local, hhmm)</td>\n",
       "    </tr>\n",
       "    <tr>\n",
       "      <th>6</th>\n",
       "      <td>CRSDepTime</td>\n",
       "      <td>scheduled departure time (local, hhmm)</td>\n",
       "    </tr>\n",
       "    <tr>\n",
       "      <th>7</th>\n",
       "      <td>ArrTime</td>\n",
       "      <td>actual arrival time (local, hhmm)</td>\n",
       "    </tr>\n",
       "    <tr>\n",
       "      <th>8</th>\n",
       "      <td>CRSArrTime</td>\n",
       "      <td>scheduled arrival time (local, hhmm)</td>\n",
       "    </tr>\n",
       "    <tr>\n",
       "      <th>9</th>\n",
       "      <td>UniqueCarrier</td>\n",
       "      <td>unique carrier code</td>\n",
       "    </tr>\n",
       "    <tr>\n",
       "      <th>10</th>\n",
       "      <td>FlightNum</td>\n",
       "      <td>flight number</td>\n",
       "    </tr>\n",
       "    <tr>\n",
       "      <th>11</th>\n",
       "      <td>TailNum</td>\n",
       "      <td>plane tail number</td>\n",
       "    </tr>\n",
       "    <tr>\n",
       "      <th>12</th>\n",
       "      <td>ActualElapsedTime</td>\n",
       "      <td>in minutes</td>\n",
       "    </tr>\n",
       "    <tr>\n",
       "      <th>13</th>\n",
       "      <td>CRSElapsedTime</td>\n",
       "      <td>in minutes</td>\n",
       "    </tr>\n",
       "    <tr>\n",
       "      <th>14</th>\n",
       "      <td>AirTime</td>\n",
       "      <td>in minutes</td>\n",
       "    </tr>\n",
       "    <tr>\n",
       "      <th>15</th>\n",
       "      <td>ArrDelay</td>\n",
       "      <td>arrival delay, in minutes</td>\n",
       "    </tr>\n",
       "    <tr>\n",
       "      <th>16</th>\n",
       "      <td>DepDelay</td>\n",
       "      <td>departure delay, in minutes</td>\n",
       "    </tr>\n",
       "    <tr>\n",
       "      <th>17</th>\n",
       "      <td>Origin</td>\n",
       "      <td>origin IATA airport code</td>\n",
       "    </tr>\n",
       "    <tr>\n",
       "      <th>18</th>\n",
       "      <td>Dest</td>\n",
       "      <td>destination IATA airport code</td>\n",
       "    </tr>\n",
       "    <tr>\n",
       "      <th>19</th>\n",
       "      <td>Distance</td>\n",
       "      <td>in miles</td>\n",
       "    </tr>\n",
       "    <tr>\n",
       "      <th>20</th>\n",
       "      <td>TaxiIn</td>\n",
       "      <td>taxi in time, in minutes</td>\n",
       "    </tr>\n",
       "    <tr>\n",
       "      <th>21</th>\n",
       "      <td>TaxiOut</td>\n",
       "      <td>taxi out time in minutes</td>\n",
       "    </tr>\n",
       "    <tr>\n",
       "      <th>22</th>\n",
       "      <td>Cancelled</td>\n",
       "      <td>was the flight cancelled?</td>\n",
       "    </tr>\n",
       "    <tr>\n",
       "      <th>23</th>\n",
       "      <td>CancellationCode</td>\n",
       "      <td>reason for cancellation (A = carrier, B = weat...</td>\n",
       "    </tr>\n",
       "    <tr>\n",
       "      <th>24</th>\n",
       "      <td>Diverted</td>\n",
       "      <td>1 = yes, 0 = no</td>\n",
       "    </tr>\n",
       "    <tr>\n",
       "      <th>25</th>\n",
       "      <td>CarrierDelay</td>\n",
       "      <td>in minutes</td>\n",
       "    </tr>\n",
       "    <tr>\n",
       "      <th>26</th>\n",
       "      <td>WeatherDelay</td>\n",
       "      <td>in minutes</td>\n",
       "    </tr>\n",
       "    <tr>\n",
       "      <th>27</th>\n",
       "      <td>NASDelay</td>\n",
       "      <td>in minutes</td>\n",
       "    </tr>\n",
       "    <tr>\n",
       "      <th>28</th>\n",
       "      <td>SecurityDelay</td>\n",
       "      <td>in minutes</td>\n",
       "    </tr>\n",
       "    <tr>\n",
       "      <th>29</th>\n",
       "      <td>LateAircraftDelay</td>\n",
       "      <td>in minutes</td>\n",
       "    </tr>\n",
       "  </tbody>\n",
       "</table>\n",
       "</div>"
      ],
      "text/plain": [
       "                 Name                                        Description\n",
       "1                Year                                          1987-2008\n",
       "2               Month                                             12-Jan\n",
       "3          DayofMonth                                             31-Jan\n",
       "4           DayOfWeek                            1 (Monday) - 7 (Sunday)\n",
       "5             DepTime                actual departure time (local, hhmm)\n",
       "6          CRSDepTime             scheduled departure time (local, hhmm)\n",
       "7             ArrTime                  actual arrival time (local, hhmm)\n",
       "8          CRSArrTime               scheduled arrival time (local, hhmm)\n",
       "9       UniqueCarrier                                unique carrier code\n",
       "10          FlightNum                                      flight number\n",
       "11            TailNum                                  plane tail number\n",
       "12  ActualElapsedTime                                         in minutes\n",
       "13     CRSElapsedTime                                         in minutes\n",
       "14            AirTime                                         in minutes\n",
       "15           ArrDelay                          arrival delay, in minutes\n",
       "16           DepDelay                        departure delay, in minutes\n",
       "17             Origin                           origin IATA airport code\n",
       "18               Dest                      destination IATA airport code\n",
       "19           Distance                                           in miles\n",
       "20             TaxiIn                           taxi in time, in minutes\n",
       "21            TaxiOut                           taxi out time in minutes\n",
       "22          Cancelled                          was the flight cancelled?\n",
       "23   CancellationCode  reason for cancellation (A = carrier, B = weat...\n",
       "24           Diverted                                    1 = yes, 0 = no\n",
       "25       CarrierDelay                                         in minutes\n",
       "26       WeatherDelay                                         in minutes\n",
       "27           NASDelay                                         in minutes\n",
       "28      SecurityDelay                                         in minutes\n",
       "29  LateAircraftDelay                                         in minutes"
      ]
     },
     "execution_count": 2,
     "metadata": {},
     "output_type": "execute_result"
    }
   ],
   "source": [
    "variables = pd.read_csv(\"variable-descriptions.csv\", header = 2, index_col=0)\n",
    "variables"
   ]
  },
  {
   "cell_type": "code",
   "execution_count": 20,
   "metadata": {},
   "outputs": [
    {
     "data": {
      "text/plain": [
       "'reason for cancellation (A = carrier, B = weather, C = NAS, D = security)'"
      ]
     },
     "execution_count": 20,
     "metadata": {},
     "output_type": "execute_result"
    }
   ],
   "source": [
    "variables.iloc[22, 1]"
   ]
  },
  {
   "cell_type": "code",
   "execution_count": 26,
   "metadata": {},
   "outputs": [],
   "source": [
    "df = pd.read_csv(\"2008.csv\")"
   ]
  },
  {
   "cell_type": "code",
   "execution_count": 27,
   "metadata": {},
   "outputs": [
    {
     "data": {
      "text/plain": [
       "(2389217, 29)"
      ]
     },
     "execution_count": 27,
     "metadata": {},
     "output_type": "execute_result"
    }
   ],
   "source": [
    "df.shape"
   ]
  },
  {
   "cell_type": "code",
   "execution_count": 28,
   "metadata": {},
   "outputs": [],
   "source": [
    "# Delete features I am not interested to reduce the feature space and reduce RAM usage\n",
    "df.drop(columns = [\"Year\", \"DayofMonth\", \"ArrTime\", \"CRSArrTime\", \"FlightNum\", \"TailNum\", \n",
    "                   \"ActualElapsedTime\", \"CRSElapsedTime\", \"DepTime\", \"CRSDepTime\", \"AirTime\",  \n",
    "                   \"Distance\", \"TaxiIn\", \"TaxiOut\"], inplace=True)"
   ]
  },
  {
   "cell_type": "code",
   "execution_count": 29,
   "metadata": {},
   "outputs": [
    {
     "data": {
      "text/plain": [
       "(2389217, 15)"
      ]
     },
     "execution_count": 29,
     "metadata": {},
     "output_type": "execute_result"
    }
   ],
   "source": [
    "df.shape"
   ]
  },
  {
   "cell_type": "code",
   "execution_count": 31,
   "metadata": {},
   "outputs": [],
   "source": [
    "df.to_csv(\"flight2008.csv\", index=False)"
   ]
  },
  {
   "cell_type": "code",
   "execution_count": 2,
   "metadata": {},
   "outputs": [],
   "source": [
    "df = pd.read_csv(\"flight2008.csv\")"
   ]
  },
  {
   "cell_type": "code",
   "execution_count": 4,
   "metadata": {},
   "outputs": [
    {
     "data": {
      "text/plain": [
       "(2389217, 15)"
      ]
     },
     "execution_count": 4,
     "metadata": {},
     "output_type": "execute_result"
    }
   ],
   "source": [
    "df.shape"
   ]
  },
  {
   "cell_type": "code",
   "execution_count": 5,
   "metadata": {},
   "outputs": [
    {
     "name": "stdout",
     "output_type": "stream",
     "text": [
      "<class 'pandas.core.frame.DataFrame'>\n",
      "RangeIndex: 2389217 entries, 0 to 2389216\n",
      "Data columns (total 15 columns):\n",
      " #   Column             Dtype  \n",
      "---  ------             -----  \n",
      " 0   Month              int64  \n",
      " 1   DayOfWeek          int64  \n",
      " 2   UniqueCarrier      object \n",
      " 3   ArrDelay           float64\n",
      " 4   DepDelay           float64\n",
      " 5   Origin             object \n",
      " 6   Dest               object \n",
      " 7   Cancelled          int64  \n",
      " 8   CancellationCode   object \n",
      " 9   Diverted           int64  \n",
      " 10  CarrierDelay       float64\n",
      " 11  WeatherDelay       float64\n",
      " 12  NASDelay           float64\n",
      " 13  SecurityDelay      float64\n",
      " 14  LateAircraftDelay  float64\n",
      "dtypes: float64(7), int64(4), object(4)\n",
      "memory usage: 273.4+ MB\n"
     ]
    }
   ],
   "source": [
    "df.info()# the data type seems good"
   ]
  },
  {
   "cell_type": "code",
   "execution_count": 6,
   "metadata": {},
   "outputs": [
    {
     "data": {
      "text/html": [
       "<div>\n",
       "<style scoped>\n",
       "    .dataframe tbody tr th:only-of-type {\n",
       "        vertical-align: middle;\n",
       "    }\n",
       "\n",
       "    .dataframe tbody tr th {\n",
       "        vertical-align: top;\n",
       "    }\n",
       "\n",
       "    .dataframe thead th {\n",
       "        text-align: right;\n",
       "    }\n",
       "</style>\n",
       "<table border=\"1\" class=\"dataframe\">\n",
       "  <thead>\n",
       "    <tr style=\"text-align: right;\">\n",
       "      <th></th>\n",
       "      <th>Month</th>\n",
       "      <th>DayOfWeek</th>\n",
       "      <th>ArrDelay</th>\n",
       "      <th>DepDelay</th>\n",
       "      <th>Cancelled</th>\n",
       "      <th>Diverted</th>\n",
       "      <th>CarrierDelay</th>\n",
       "      <th>WeatherDelay</th>\n",
       "      <th>NASDelay</th>\n",
       "      <th>SecurityDelay</th>\n",
       "      <th>LateAircraftDelay</th>\n",
       "    </tr>\n",
       "  </thead>\n",
       "  <tbody>\n",
       "    <tr>\n",
       "      <th>count</th>\n",
       "      <td>2.389217e+06</td>\n",
       "      <td>2.389217e+06</td>\n",
       "      <td>2.319121e+06</td>\n",
       "      <td>2.324775e+06</td>\n",
       "      <td>2.389217e+06</td>\n",
       "      <td>2.389217e+06</td>\n",
       "      <td>584583.000000</td>\n",
       "      <td>584583.000000</td>\n",
       "      <td>584583.000000</td>\n",
       "      <td>584583.000000</td>\n",
       "      <td>584583.000000</td>\n",
       "    </tr>\n",
       "    <tr>\n",
       "      <th>mean</th>\n",
       "      <td>2.505009e+00</td>\n",
       "      <td>3.909625e+00</td>\n",
       "      <td>1.027357e+01</td>\n",
       "      <td>1.143636e+01</td>\n",
       "      <td>2.697202e-02</td>\n",
       "      <td>2.366466e-03</td>\n",
       "      <td>15.752957</td>\n",
       "      <td>2.938243</td>\n",
       "      <td>16.158462</td>\n",
       "      <td>0.080459</td>\n",
       "      <td>20.976710</td>\n",
       "    </tr>\n",
       "    <tr>\n",
       "      <th>std</th>\n",
       "      <td>1.121493e+00</td>\n",
       "      <td>1.980431e+00</td>\n",
       "      <td>3.963429e+01</td>\n",
       "      <td>3.653229e+01</td>\n",
       "      <td>1.620017e-01</td>\n",
       "      <td>4.858875e-02</td>\n",
       "      <td>40.035487</td>\n",
       "      <td>19.166662</td>\n",
       "      <td>30.534167</td>\n",
       "      <td>1.742579</td>\n",
       "      <td>38.617154</td>\n",
       "    </tr>\n",
       "    <tr>\n",
       "      <th>min</th>\n",
       "      <td>1.000000e+00</td>\n",
       "      <td>1.000000e+00</td>\n",
       "      <td>-9.100000e+01</td>\n",
       "      <td>-9.200000e+01</td>\n",
       "      <td>0.000000e+00</td>\n",
       "      <td>0.000000e+00</td>\n",
       "      <td>0.000000</td>\n",
       "      <td>0.000000</td>\n",
       "      <td>0.000000</td>\n",
       "      <td>0.000000</td>\n",
       "      <td>0.000000</td>\n",
       "    </tr>\n",
       "    <tr>\n",
       "      <th>25%</th>\n",
       "      <td>1.000000e+00</td>\n",
       "      <td>2.000000e+00</td>\n",
       "      <td>-9.000000e+00</td>\n",
       "      <td>-4.000000e+00</td>\n",
       "      <td>0.000000e+00</td>\n",
       "      <td>0.000000e+00</td>\n",
       "      <td>0.000000</td>\n",
       "      <td>0.000000</td>\n",
       "      <td>0.000000</td>\n",
       "      <td>0.000000</td>\n",
       "      <td>0.000000</td>\n",
       "    </tr>\n",
       "    <tr>\n",
       "      <th>50%</th>\n",
       "      <td>3.000000e+00</td>\n",
       "      <td>4.000000e+00</td>\n",
       "      <td>0.000000e+00</td>\n",
       "      <td>0.000000e+00</td>\n",
       "      <td>0.000000e+00</td>\n",
       "      <td>0.000000e+00</td>\n",
       "      <td>0.000000</td>\n",
       "      <td>0.000000</td>\n",
       "      <td>5.000000</td>\n",
       "      <td>0.000000</td>\n",
       "      <td>0.000000</td>\n",
       "    </tr>\n",
       "    <tr>\n",
       "      <th>75%</th>\n",
       "      <td>4.000000e+00</td>\n",
       "      <td>6.000000e+00</td>\n",
       "      <td>1.500000e+01</td>\n",
       "      <td>1.100000e+01</td>\n",
       "      <td>0.000000e+00</td>\n",
       "      <td>0.000000e+00</td>\n",
       "      <td>16.000000</td>\n",
       "      <td>0.000000</td>\n",
       "      <td>20.000000</td>\n",
       "      <td>0.000000</td>\n",
       "      <td>27.000000</td>\n",
       "    </tr>\n",
       "    <tr>\n",
       "      <th>max</th>\n",
       "      <td>4.000000e+00</td>\n",
       "      <td>7.000000e+00</td>\n",
       "      <td>2.461000e+03</td>\n",
       "      <td>2.467000e+03</td>\n",
       "      <td>1.000000e+00</td>\n",
       "      <td>1.000000e+00</td>\n",
       "      <td>2436.000000</td>\n",
       "      <td>1148.000000</td>\n",
       "      <td>1357.000000</td>\n",
       "      <td>392.000000</td>\n",
       "      <td>1254.000000</td>\n",
       "    </tr>\n",
       "  </tbody>\n",
       "</table>\n",
       "</div>"
      ],
      "text/plain": [
       "              Month     DayOfWeek      ArrDelay      DepDelay     Cancelled  \\\n",
       "count  2.389217e+06  2.389217e+06  2.319121e+06  2.324775e+06  2.389217e+06   \n",
       "mean   2.505009e+00  3.909625e+00  1.027357e+01  1.143636e+01  2.697202e-02   \n",
       "std    1.121493e+00  1.980431e+00  3.963429e+01  3.653229e+01  1.620017e-01   \n",
       "min    1.000000e+00  1.000000e+00 -9.100000e+01 -9.200000e+01  0.000000e+00   \n",
       "25%    1.000000e+00  2.000000e+00 -9.000000e+00 -4.000000e+00  0.000000e+00   \n",
       "50%    3.000000e+00  4.000000e+00  0.000000e+00  0.000000e+00  0.000000e+00   \n",
       "75%    4.000000e+00  6.000000e+00  1.500000e+01  1.100000e+01  0.000000e+00   \n",
       "max    4.000000e+00  7.000000e+00  2.461000e+03  2.467000e+03  1.000000e+00   \n",
       "\n",
       "           Diverted   CarrierDelay   WeatherDelay       NASDelay  \\\n",
       "count  2.389217e+06  584583.000000  584583.000000  584583.000000   \n",
       "mean   2.366466e-03      15.752957       2.938243      16.158462   \n",
       "std    4.858875e-02      40.035487      19.166662      30.534167   \n",
       "min    0.000000e+00       0.000000       0.000000       0.000000   \n",
       "25%    0.000000e+00       0.000000       0.000000       0.000000   \n",
       "50%    0.000000e+00       0.000000       0.000000       5.000000   \n",
       "75%    0.000000e+00      16.000000       0.000000      20.000000   \n",
       "max    1.000000e+00    2436.000000    1148.000000    1357.000000   \n",
       "\n",
       "       SecurityDelay  LateAircraftDelay  \n",
       "count  584583.000000      584583.000000  \n",
       "mean        0.080459          20.976710  \n",
       "std         1.742579          38.617154  \n",
       "min         0.000000           0.000000  \n",
       "25%         0.000000           0.000000  \n",
       "50%         0.000000           0.000000  \n",
       "75%         0.000000          27.000000  \n",
       "max       392.000000        1254.000000  "
      ]
     },
     "execution_count": 6,
     "metadata": {},
     "output_type": "execute_result"
    }
   ],
   "source": [
    "# explore the numerical columns\n",
    "df.describe()"
   ]
  },
  {
   "cell_type": "code",
   "execution_count": 7,
   "metadata": {},
   "outputs": [
    {
     "name": "stdout",
     "output_type": "stream",
     "text": [
      "UniqueCarrier 20\n",
      "Origin 291\n",
      "Dest 293\n",
      "CancellationCode 4\n"
     ]
    }
   ],
   "source": [
    "# explore categorical columns\n",
    "Cat_cols = [col for col in df.columns if df[col].dtypes == \"O\"]\n",
    "for i, col in enumerate(Cat_cols):\n",
    "    print(Cat_cols[i], df[col].nunique())\n",
    "# Origin and Dest columns have very high cardinality"
   ]
  },
  {
   "cell_type": "code",
   "execution_count": 8,
   "metadata": {},
   "outputs": [
    {
     "data": {
      "text/plain": [
       "Month                0.000000\n",
       "DayOfWeek            0.000000\n",
       "UniqueCarrier        0.000000\n",
       "ArrDelay             0.029338\n",
       "DepDelay             0.026972\n",
       "Origin               0.000000\n",
       "Dest                 0.000000\n",
       "Cancelled            0.000000\n",
       "CancellationCode     0.973028\n",
       "Diverted             0.000000\n",
       "CarrierDelay         0.755324\n",
       "WeatherDelay         0.755324\n",
       "NASDelay             0.755324\n",
       "SecurityDelay        0.755324\n",
       "LateAircraftDelay    0.755324\n",
       "dtype: float64"
      ]
     },
     "execution_count": 8,
     "metadata": {},
     "output_type": "execute_result"
    }
   ],
   "source": [
    "# detect any missing values\n",
    "df.isnull().mean()\n",
    "# a very high proportion of data are missing in \"CancellationCode\", \"CarrierDelay\", \"WeatherDelay\", \"NASDelay\", \n",
    "# \"SecurityDelay\", and \"LateAircraftDelay\""
   ]
  },
  {
   "cell_type": "markdown",
   "metadata": {},
   "source": [
    "### What is the structure of your dataset?\n",
    "\n",
    "> The modified dataset(flight2008.csv) has 15 columns, most of which are numerical. The 4 categorical columns are 'UniqueCarrier', 'Origin', 'Dest', and 'CancellationCode'. However, 'Month', 'DayOfWeek', 'Cancelled', 'Diverted' columns are actually categorcial coloumns.\n",
    "\n",
    "### What is/are the main feature(s) of interest in your dataset?\n",
    "\n",
    "> The major interest is to ingastigate what features are most related to flight changes(Delay, Cancellation, Diversion).\n",
    "\n",
    "### What features in the dataset do you think will help support your investigation into your feature(s) of interest?\n",
    "\n",
    "> I speculate that location(Dest, Origin) and time in the year(Month) might be most related to delay(especially weather delay).\n",
    "> I'm also curious about if certain carriers are prone to delay. "
   ]
  },
  {
   "cell_type": "markdown",
   "metadata": {},
   "source": [
    "## Univariate Exploration\n",
    "\n",
    "> In this section, investigate distributions of individual variables. If\n",
    "you see unusual points or outliers, take a deeper look to clean things up\n",
    "and prepare yourself to look at relationships between variables."
   ]
  },
  {
   "cell_type": "markdown",
   "metadata": {},
   "source": [
    "### Categrorical Target variables"
   ]
  },
  {
   "cell_type": "code",
   "execution_count": 22,
   "metadata": {},
   "outputs": [
    {
     "data": {
      "image/png": "[encoded data removed]",
      "text/plain": [
       "<Figure size 432x288 with 1 Axes>"
      ]
     },
     "metadata": {
      "needs_background": "light"
     },
     "output_type": "display_data"
    },
    {
     "data": {
      "image/png": "[encoded data removed]",
      "text/plain": [
       "<Figure size 432x288 with 1 Axes>"
      ]
     },
     "metadata": {
      "needs_background": "light"
     },
     "output_type": "display_data"
    },
    {
     "data": {
      "image/png": "[encoded data removed]",
      "text/plain": [
       "<Figure size 432x288 with 1 Axes>"
      ]
     },
     "metadata": {
      "needs_background": "light"
     },
     "output_type": "display_data"
    }
   ],
   "source": [
    "# the primary target of interest is if the flight is diverted, cancelled, or delayed. \n",
    "# I'll take a look at these categorical targets first\n",
    "target1 = [\"Cancelled\", \"CancellationCode\", \"Diverted\"]\n",
    "for var in target1:\n",
    "    base_color = sb.color_palette()[0]\n",
    "    fig, axes = plt.subplots()\n",
    "    sb.countplot(data=df, x=var, color=base_color)"
   ]
  },
  {
   "cell_type": "markdown",
   "metadata": {},
   "source": [
    "> Here we can see in \"Diverted\" and \"Cancellation\" columns, the data are highly imbalanced which make sense that most of the flights are not cancelled or diverted. As for the reason of cancellation, it looks like \"Weather\" and \"Carrier\" arer the major reason for cancellation"
   ]
  },
  {
   "cell_type": "markdown",
   "metadata": {},
   "source": [
    "### Numerical target variables"
   ]
  },
  {
   "cell_type": "code",
   "execution_count": 7,
   "metadata": {},
   "outputs": [
    {
     "data": {
      "image/png": "[encoded data removed]",
      "text/plain": [
       "<Figure size 432x288 with 1 Axes>"
      ]
     },
     "metadata": {
      "needs_background": "light"
     },
     "output_type": "display_data"
    }
   ],
   "source": [
    "#target2 = ['ArrDelay','DepDelay','CarrierDelay','WeatherDelay','NASDelay','SecurityDelay','LateAircraftDelay']\n",
    "# Then I'll explore other target variables\n",
    "base_color = sb.color_palette()[0]\n",
    "bins = np.arange(df.ArrDelay.min(), df.ArrDelay.max()+100, 100)\n",
    "plt.hist(data=df, x='ArrDelay', color=base_color, bins=bins)\n",
    "plt.yscale(\"log\")\n",
    "ticks = [0.1,1,10,100,1000,10000,100000,1000000]\n",
    "labels = ['{}'.format(v) for v in ticks]\n",
    "plt.yticks(ticks,labels);"
   ]
  },
  {
   "cell_type": "code",
   "execution_count": 15,
   "metadata": {},
   "outputs": [
    {
     "data": {
      "text/html": [
       "<div>\n",
       "<style scoped>\n",
       "    .dataframe tbody tr th:only-of-type {\n",
       "        vertical-align: middle;\n",
       "    }\n",
       "\n",
       "    .dataframe tbody tr th {\n",
       "        vertical-align: top;\n",
       "    }\n",
       "\n",
       "    .dataframe thead th {\n",
       "        text-align: right;\n",
       "    }\n",
       "</style>\n",
       "<table border=\"1\" class=\"dataframe\">\n",
       "  <thead>\n",
       "    <tr style=\"text-align: right;\">\n",
       "      <th></th>\n",
       "      <th>Month</th>\n",
       "      <th>DayOfWeek</th>\n",
       "      <th>UniqueCarrier</th>\n",
       "      <th>ArrDelay</th>\n",
       "      <th>DepDelay</th>\n",
       "      <th>Origin</th>\n",
       "      <th>Dest</th>\n",
       "      <th>Cancelled</th>\n",
       "      <th>CancellationCode</th>\n",
       "      <th>Diverted</th>\n",
       "      <th>CarrierDelay</th>\n",
       "      <th>WeatherDelay</th>\n",
       "      <th>NASDelay</th>\n",
       "      <th>SecurityDelay</th>\n",
       "      <th>LateAircraftDelay</th>\n",
       "    </tr>\n",
       "  </thead>\n",
       "  <tbody>\n",
       "    <tr>\n",
       "      <th>1018504</th>\n",
       "      <td>2</td>\n",
       "      <td>7</td>\n",
       "      <td>NW</td>\n",
       "      <td>2461.0</td>\n",
       "      <td>2457.0</td>\n",
       "      <td>HNL</td>\n",
       "      <td>MSP</td>\n",
       "      <td>0</td>\n",
       "      <td>NaN</td>\n",
       "      <td>0</td>\n",
       "      <td>1455.0</td>\n",
       "      <td>0.0</td>\n",
       "      <td>4.0</td>\n",
       "      <td>0.0</td>\n",
       "      <td>1002.0</td>\n",
       "    </tr>\n",
       "    <tr>\n",
       "      <th>2235384</th>\n",
       "      <td>4</td>\n",
       "      <td>4</td>\n",
       "      <td>NW</td>\n",
       "      <td>2453.0</td>\n",
       "      <td>2467.0</td>\n",
       "      <td>CLT</td>\n",
       "      <td>MSP</td>\n",
       "      <td>0</td>\n",
       "      <td>NaN</td>\n",
       "      <td>0</td>\n",
       "      <td>2436.0</td>\n",
       "      <td>0.0</td>\n",
       "      <td>0.0</td>\n",
       "      <td>0.0</td>\n",
       "      <td>17.0</td>\n",
       "    </tr>\n",
       "  </tbody>\n",
       "</table>\n",
       "</div>"
      ],
      "text/plain": [
       "         Month  DayOfWeek UniqueCarrier  ArrDelay  DepDelay Origin Dest  \\\n",
       "1018504      2          7            NW    2461.0    2457.0    HNL  MSP   \n",
       "2235384      4          4            NW    2453.0    2467.0    CLT  MSP   \n",
       "\n",
       "         Cancelled CancellationCode  Diverted  CarrierDelay  WeatherDelay  \\\n",
       "1018504          0              NaN         0        1455.0           0.0   \n",
       "2235384          0              NaN         0        2436.0           0.0   \n",
       "\n",
       "         NASDelay  SecurityDelay  LateAircraftDelay  \n",
       "1018504       4.0            0.0             1002.0  \n",
       "2235384       0.0            0.0               17.0  "
      ]
     },
     "execution_count": 15,
     "metadata": {},
     "output_type": "execute_result"
    }
   ],
   "source": [
    "df.loc[df.ArrDelay > 2000]\n",
    "# The data are highly skewed. At the very right side of the graph, I see outliers at aound 2500\n",
    "# There are actually 2 outliers here with delay of 2461 min and 2453 min respectedly. "
   ]
  },
  {
   "cell_type": "code",
   "execution_count": 23,
   "metadata": {},
   "outputs": [
    {
     "data": {
      "text/plain": [
       "1210094"
      ]
     },
     "execution_count": 23,
     "metadata": {},
     "output_type": "execute_result"
    }
   ],
   "source": [
    "df.loc[df.ArrDelay <= 0].shape[0]\n",
    "# I also notice there are 1210094 rows of data are equal or smaller than 0 in this columns \n",
    "# which means the flight actually took off earlier or on time"
   ]
  },
  {
   "cell_type": "code",
   "execution_count": 6,
   "metadata": {},
   "outputs": [
    {
     "data": {
      "image/png": "[encoded data removed]",
      "text/plain": [
       "<Figure size 432x288 with 1 Axes>"
      ]
     },
     "metadata": {
      "needs_background": "light"
     },
     "output_type": "display_data"
    }
   ],
   "source": [
    "bins = np.arange(df.DepDelay.min(), df.DepDelay.max()+100, 100)\n",
    "plt.hist(data=df, x='DepDelay', color=base_color, bins=bins)\n",
    "plt.yscale(\"log\")\n",
    "ticks = [0.1,1,10,100,1000,10000,100000,1000000]\n",
    "labels = ['{}'.format(v) for v in ticks]\n",
    "plt.yticks(ticks,labels);"
   ]
  },
  {
   "cell_type": "code",
   "execution_count": 16,
   "metadata": {},
   "outputs": [
    {
     "data": {
      "text/html": [
       "<div>\n",
       "<style scoped>\n",
       "    .dataframe tbody tr th:only-of-type {\n",
       "        vertical-align: middle;\n",
       "    }\n",
       "\n",
       "    .dataframe tbody tr th {\n",
       "        vertical-align: top;\n",
       "    }\n",
       "\n",
       "    .dataframe thead th {\n",
       "        text-align: right;\n",
       "    }\n",
       "</style>\n",
       "<table border=\"1\" class=\"dataframe\">\n",
       "  <thead>\n",
       "    <tr style=\"text-align: right;\">\n",
       "      <th></th>\n",
       "      <th>Month</th>\n",
       "      <th>DayOfWeek</th>\n",
       "      <th>UniqueCarrier</th>\n",
       "      <th>ArrDelay</th>\n",
       "      <th>DepDelay</th>\n",
       "      <th>Origin</th>\n",
       "      <th>Dest</th>\n",
       "      <th>Cancelled</th>\n",
       "      <th>CancellationCode</th>\n",
       "      <th>Diverted</th>\n",
       "      <th>CarrierDelay</th>\n",
       "      <th>WeatherDelay</th>\n",
       "      <th>NASDelay</th>\n",
       "      <th>SecurityDelay</th>\n",
       "      <th>LateAircraftDelay</th>\n",
       "    </tr>\n",
       "  </thead>\n",
       "  <tbody>\n",
       "    <tr>\n",
       "      <th>1018504</th>\n",
       "      <td>2</td>\n",
       "      <td>7</td>\n",
       "      <td>NW</td>\n",
       "      <td>2461.0</td>\n",
       "      <td>2457.0</td>\n",
       "      <td>HNL</td>\n",
       "      <td>MSP</td>\n",
       "      <td>0</td>\n",
       "      <td>NaN</td>\n",
       "      <td>0</td>\n",
       "      <td>1455.0</td>\n",
       "      <td>0.0</td>\n",
       "      <td>4.0</td>\n",
       "      <td>0.0</td>\n",
       "      <td>1002.0</td>\n",
       "    </tr>\n",
       "    <tr>\n",
       "      <th>2235384</th>\n",
       "      <td>4</td>\n",
       "      <td>4</td>\n",
       "      <td>NW</td>\n",
       "      <td>2453.0</td>\n",
       "      <td>2467.0</td>\n",
       "      <td>CLT</td>\n",
       "      <td>MSP</td>\n",
       "      <td>0</td>\n",
       "      <td>NaN</td>\n",
       "      <td>0</td>\n",
       "      <td>2436.0</td>\n",
       "      <td>0.0</td>\n",
       "      <td>0.0</td>\n",
       "      <td>0.0</td>\n",
       "      <td>17.0</td>\n",
       "    </tr>\n",
       "  </tbody>\n",
       "</table>\n",
       "</div>"
      ],
      "text/plain": [
       "         Month  DayOfWeek UniqueCarrier  ArrDelay  DepDelay Origin Dest  \\\n",
       "1018504      2          7            NW    2461.0    2457.0    HNL  MSP   \n",
       "2235384      4          4            NW    2453.0    2467.0    CLT  MSP   \n",
       "\n",
       "         Cancelled CancellationCode  Diverted  CarrierDelay  WeatherDelay  \\\n",
       "1018504          0              NaN         0        1455.0           0.0   \n",
       "2235384          0              NaN         0        2436.0           0.0   \n",
       "\n",
       "         NASDelay  SecurityDelay  LateAircraftDelay  \n",
       "1018504       4.0            0.0             1002.0  \n",
       "2235384       0.0            0.0               17.0  "
      ]
     },
     "execution_count": 16,
     "metadata": {},
     "output_type": "execute_result"
    }
   ],
   "source": [
    "df.loc[df.DepDelay > 2000]\n",
    "# This column is extremely similar to 'ArrDelay' and the 2 outliers are the same data.\n",
    "# From the numerical data description I can see that the statistics in the two columns are also very close."
   ]
  },
  {
   "cell_type": "code",
   "execution_count": 24,
   "metadata": {},
   "outputs": [
    {
     "data": {
      "text/plain": [
       "1331229"
      ]
     },
     "execution_count": 24,
     "metadata": {},
     "output_type": "execute_result"
    }
   ],
   "source": [
    "df.loc[df.DepDelay <= 0].shape[0]\n",
    "# Here is the same situation that 1331229 rows of data are smaller or equal 0 which means they were not delayed"
   ]
  },
  {
   "cell_type": "code",
   "execution_count": 9,
   "metadata": {},
   "outputs": [
    {
     "data": {
      "image/png": "[encoded data removed]",
      "text/plain": [
       "<Figure size 432x288 with 1 Axes>"
      ]
     },
     "metadata": {
      "needs_background": "light"
     },
     "output_type": "display_data"
    }
   ],
   "source": [
    "bins = np.arange(df.CarrierDelay.min(), df.CarrierDelay.max()+100, 100)\n",
    "plt.hist(data=df, x='CarrierDelay', color=base_color, bins=bins)\n",
    "plt.yscale(\"log\")\n",
    "ticks = [0.1,1,10,100,1000,10000,100000,1000000]\n",
    "labels = ['{}'.format(v) for v in ticks]\n",
    "plt.yticks(ticks,labels);"
   ]
  },
  {
   "cell_type": "code",
   "execution_count": 29,
   "metadata": {},
   "outputs": [
    {
     "data": {
      "text/plain": [
       "325898"
      ]
     },
     "execution_count": 29,
     "metadata": {},
     "output_type": "execute_result"
    }
   ],
   "source": [
    "df.loc[df.CarrierDelay == 0].shape[0]\n",
    "# 325898 rows of data indicate the flight were on time "
   ]
  },
  {
   "cell_type": "code",
   "execution_count": 17,
   "metadata": {},
   "outputs": [
    {
     "data": {
      "text/html": [
       "<div>\n",
       "<style scoped>\n",
       "    .dataframe tbody tr th:only-of-type {\n",
       "        vertical-align: middle;\n",
       "    }\n",
       "\n",
       "    .dataframe tbody tr th {\n",
       "        vertical-align: top;\n",
       "    }\n",
       "\n",
       "    .dataframe thead th {\n",
       "        text-align: right;\n",
       "    }\n",
       "</style>\n",
       "<table border=\"1\" class=\"dataframe\">\n",
       "  <thead>\n",
       "    <tr style=\"text-align: right;\">\n",
       "      <th></th>\n",
       "      <th>Month</th>\n",
       "      <th>DayOfWeek</th>\n",
       "      <th>UniqueCarrier</th>\n",
       "      <th>ArrDelay</th>\n",
       "      <th>DepDelay</th>\n",
       "      <th>Origin</th>\n",
       "      <th>Dest</th>\n",
       "      <th>Cancelled</th>\n",
       "      <th>CancellationCode</th>\n",
       "      <th>Diverted</th>\n",
       "      <th>CarrierDelay</th>\n",
       "      <th>WeatherDelay</th>\n",
       "      <th>NASDelay</th>\n",
       "      <th>SecurityDelay</th>\n",
       "      <th>LateAircraftDelay</th>\n",
       "    </tr>\n",
       "  </thead>\n",
       "  <tbody>\n",
       "    <tr>\n",
       "      <th>2235384</th>\n",
       "      <td>4</td>\n",
       "      <td>4</td>\n",
       "      <td>NW</td>\n",
       "      <td>2453.0</td>\n",
       "      <td>2467.0</td>\n",
       "      <td>CLT</td>\n",
       "      <td>MSP</td>\n",
       "      <td>0</td>\n",
       "      <td>NaN</td>\n",
       "      <td>0</td>\n",
       "      <td>2436.0</td>\n",
       "      <td>0.0</td>\n",
       "      <td>0.0</td>\n",
       "      <td>0.0</td>\n",
       "      <td>17.0</td>\n",
       "    </tr>\n",
       "  </tbody>\n",
       "</table>\n",
       "</div>"
      ],
      "text/plain": [
       "         Month  DayOfWeek UniqueCarrier  ArrDelay  DepDelay Origin Dest  \\\n",
       "2235384      4          4            NW    2453.0    2467.0    CLT  MSP   \n",
       "\n",
       "         Cancelled CancellationCode  Diverted  CarrierDelay  WeatherDelay  \\\n",
       "2235384          0              NaN         0        2436.0           0.0   \n",
       "\n",
       "         NASDelay  SecurityDelay  LateAircraftDelay  \n",
       "2235384       0.0            0.0               17.0  "
      ]
     },
     "execution_count": 17,
     "metadata": {},
     "output_type": "execute_result"
    }
   ],
   "source": [
    "df.loc[df.CarrierDelay > 2000]\n",
    "# This column is also very right skewed with one outliers which is one of the outliers in the previous twp columns "
   ]
  },
  {
   "cell_type": "code",
   "execution_count": 10,
   "metadata": {},
   "outputs": [
    {
     "data": {
      "image/png": "[encoded data removed]",
      "text/plain": [
       "<Figure size 432x288 with 1 Axes>"
      ]
     },
     "metadata": {
      "needs_background": "light"
     },
     "output_type": "display_data"
    }
   ],
   "source": [
    "base_color = sb.color_palette()[0]\n",
    "bins = np.arange(df.WeatherDelay.min(), df.WeatherDelay.max()+100, 100)\n",
    "plt.hist(data=df, x='WeatherDelay', color=base_color, bins=bins)\n",
    "plt.yscale(\"log\")\n",
    "ticks = [0.1,1,10,100,1000,10000,100000,1000000]\n",
    "labels = ['{}'.format(v) for v in ticks]\n",
    "plt.yticks(ticks,labels);"
   ]
  },
  {
   "cell_type": "code",
   "execution_count": 11,
   "metadata": {},
   "outputs": [
    {
     "data": {
      "image/png": "[encoded data removed]",
      "text/plain": [
       "<Figure size 432x288 with 1 Axes>"
      ]
     },
     "metadata": {
      "needs_background": "light"
     },
     "output_type": "display_data"
    }
   ],
   "source": [
    "bins = np.arange(df.NASDelay.min(), df.NASDelay.max()+100, 100)\n",
    "plt.hist(data=df, x='NASDelay', color=base_color, bins=bins)\n",
    "plt.yscale(\"log\")\n",
    "ticks = [0.1,1,10,100,1000,10000,100000,1000000]\n",
    "labels = ['{}'.format(v) for v in ticks]\n",
    "plt.yticks(ticks,labels);"
   ]
  },
  {
   "cell_type": "code",
   "execution_count": 19,
   "metadata": {},
   "outputs": [
    {
     "data": {
      "image/png": "[encoded data removed]",
      "text/plain": [
       "<Figure size 432x288 with 1 Axes>"
      ]
     },
     "metadata": {
      "needs_background": "light"
     },
     "output_type": "display_data"
    }
   ],
   "source": [
    "bins = np.arange(df.SecurityDelay.min(), df.SecurityDelay.max()+30, 30)\n",
    "plt.hist(data=df, x='SecurityDelay', color=base_color, bins=bins)\n",
    "plt.yscale(\"log\")\n",
    "ticks = [0.1,1,10,100,1000,10000,100000,1000000]\n",
    "labels = ['{}'.format(v) for v in ticks]\n",
    "plt.yticks(ticks,labels);"
   ]
  },
  {
   "cell_type": "code",
   "execution_count": 20,
   "metadata": {},
   "outputs": [
    {
     "data": {
      "text/html": [
       "<div>\n",
       "<style scoped>\n",
       "    .dataframe tbody tr th:only-of-type {\n",
       "        vertical-align: middle;\n",
       "    }\n",
       "\n",
       "    .dataframe tbody tr th {\n",
       "        vertical-align: top;\n",
       "    }\n",
       "\n",
       "    .dataframe thead th {\n",
       "        text-align: right;\n",
       "    }\n",
       "</style>\n",
       "<table border=\"1\" class=\"dataframe\">\n",
       "  <thead>\n",
       "    <tr style=\"text-align: right;\">\n",
       "      <th></th>\n",
       "      <th>Month</th>\n",
       "      <th>DayOfWeek</th>\n",
       "      <th>UniqueCarrier</th>\n",
       "      <th>ArrDelay</th>\n",
       "      <th>DepDelay</th>\n",
       "      <th>Origin</th>\n",
       "      <th>Dest</th>\n",
       "      <th>Cancelled</th>\n",
       "      <th>CancellationCode</th>\n",
       "      <th>Diverted</th>\n",
       "      <th>CarrierDelay</th>\n",
       "      <th>WeatherDelay</th>\n",
       "      <th>NASDelay</th>\n",
       "      <th>SecurityDelay</th>\n",
       "      <th>LateAircraftDelay</th>\n",
       "    </tr>\n",
       "  </thead>\n",
       "  <tbody>\n",
       "    <tr>\n",
       "      <th>2116829</th>\n",
       "      <td>4</td>\n",
       "      <td>1</td>\n",
       "      <td>EV</td>\n",
       "      <td>392.0</td>\n",
       "      <td>405.0</td>\n",
       "      <td>SAT</td>\n",
       "      <td>ATL</td>\n",
       "      <td>0</td>\n",
       "      <td>NaN</td>\n",
       "      <td>0</td>\n",
       "      <td>0.0</td>\n",
       "      <td>0.0</td>\n",
       "      <td>0.0</td>\n",
       "      <td>392.0</td>\n",
       "      <td>0.0</td>\n",
       "    </tr>\n",
       "  </tbody>\n",
       "</table>\n",
       "</div>"
      ],
      "text/plain": [
       "         Month  DayOfWeek UniqueCarrier  ArrDelay  DepDelay Origin Dest  \\\n",
       "2116829      4          1            EV     392.0     405.0    SAT  ATL   \n",
       "\n",
       "         Cancelled CancellationCode  Diverted  CarrierDelay  WeatherDelay  \\\n",
       "2116829          0              NaN         0           0.0           0.0   \n",
       "\n",
       "         NASDelay  SecurityDelay  LateAircraftDelay  \n",
       "2116829       0.0          392.0                0.0  "
      ]
     },
     "execution_count": 20,
     "metadata": {},
     "output_type": "execute_result"
    }
   ],
   "source": [
    "df.loc[df.SecurityDelay > 300]\n",
    "# One outlier of 392 is observed here."
   ]
  },
  {
   "cell_type": "code",
   "execution_count": 21,
   "metadata": {},
   "outputs": [
    {
     "data": {
      "text/plain": [
       "(581835, 15)"
      ]
     },
     "execution_count": 21,
     "metadata": {},
     "output_type": "execute_result"
    }
   ],
   "source": [
    "df.loc[df.SecurityDelay == 0].shape"
   ]
  },
  {
   "cell_type": "code",
   "execution_count": 14,
   "metadata": {},
   "outputs": [
    {
     "data": {
      "image/png": "[encoded data removed]",
      "text/plain": [
       "<Figure size 432x288 with 1 Axes>"
      ]
     },
     "metadata": {
      "needs_background": "light"
     },
     "output_type": "display_data"
    }
   ],
   "source": [
    "bins = np.arange(df.LateAircraftDelay.min(), df.LateAircraftDelay.max()+100, 100)\n",
    "plt.hist(data=df, x='LateAircraftDelay', color=base_color, bins=bins)\n",
    "plt.yscale(\"log\")\n",
    "ticks = [0.1,1,10,100,1000,10000,100000,1000000]\n",
    "labels = ['{}'.format(v) for v in ticks]\n",
    "plt.yticks(ticks,labels);"
   ]
  },
  {
   "cell_type": "markdown",
   "metadata": {},
   "source": [
    "> For these numerical target variables, I noticed they are all right skewed even if I exclude the outliers. While these columns are highly right skewed, it shows that most of the flight are not delayed and have value of 0 or smaller. \n",
    "> From the previous analysis, I know 3/4 of the data are missing in 'CarrierDelay', 'WeatherDelay', 'NASDelay', 'SecurityDelay', and 'LateAircraftDelay' columns. It's hard to know if these NaN mean no delay or simply not recorded because the column contains 0 that indicates on time."
   ]
  },
  {
   "cell_type": "markdown",
   "metadata": {},
   "source": [
    "### Other features"
   ]
  },
  {
   "cell_type": "code",
   "execution_count": 8,
   "metadata": {},
   "outputs": [
    {
     "name": "stdout",
     "output_type": "stream",
     "text": [
      "Month 4\n",
      "DayOfWeek 7\n",
      "UniqueCarrier 20\n",
      "Origin 291\n",
      "Dest 293\n"
     ]
    }
   ],
   "source": [
    "other_feat = ['Month', 'DayOfWeek', 'UniqueCarrier', 'Origin', 'Dest']\n",
    "for k, i in enumerate(other_feat):\n",
    "    print(other_feat[k], df[i].nunique())"
   ]
  },
  {
   "cell_type": "code",
   "execution_count": 19,
   "metadata": {},
   "outputs": [
    {
     "data": {
      "image/png": "[encoded data removed]",
      "text/plain": [
       "<Figure size 432x288 with 1 Axes>"
      ]
     },
     "metadata": {
      "needs_background": "light"
     },
     "output_type": "display_data"
    },
    {
     "data": {
      "image/png": "[encoded data removed]",
      "text/plain": [
       "<Figure size 432x288 with 1 Axes>"
      ]
     },
     "metadata": {
      "needs_background": "light"
     },
     "output_type": "display_data"
    }
   ],
   "source": [
    "# Since the \"Origin\" and \"Dest\" have very high cardinarlity, I'll use only the top 20 for analysis\n",
    "for i in [\"Origin\", \"Dest\"]:\n",
    "    fig, ax = plt.subplots()\n",
    "    df[i].value_counts().head(20).plot(kind=\"bar\")"
   ]
  },
  {
   "cell_type": "code",
   "execution_count": 25,
   "metadata": {},
   "outputs": [
    {
     "data": {
      "text/plain": [
       "False"
      ]
     },
     "execution_count": 25,
     "metadata": {},
     "output_type": "execute_result"
    }
   ],
   "source": [
    "(df[\"Dest\"].value_counts().index).equals(df[\"Origin\"].value_counts().index) "
   ]
  },
  {
   "cell_type": "code",
   "execution_count": 27,
   "metadata": {},
   "outputs": [
    {
     "data": {
      "text/plain": [
       "True"
      ]
     },
     "execution_count": 27,
     "metadata": {},
     "output_type": "execute_result"
    }
   ],
   "source": [
    "(df[\"Dest\"].value_counts().head(20).index).equals(df[\"Origin\"].value_counts().head(20).index)\n",
    "# It looks like the \"Origin\", \"Dest\" columns have the same top 20 categories, and the counts of each locations are very similar"
   ]
  },
  {
   "cell_type": "markdown",
   "metadata": {},
   "source": [
    "> Make sure that, after every plot or related series of plots, that you\n",
    "include a Markdown cell with comments about what you observed, and what\n",
    "you plan on investigating next."
   ]
  },
  {
   "cell_type": "code",
   "execution_count": 32,
   "metadata": {},
   "outputs": [
    {
     "data": {
      "image/png": "[encoded data removed]",
      "text/plain": [
       "<Figure size 432x288 with 1 Axes>"
      ]
     },
     "metadata": {
      "needs_background": "light"
     },
     "output_type": "display_data"
    },
    {
     "data": {
      "image/png": "[encoded data removed]",
      "text/plain": [
       "<Figure size 432x288 with 1 Axes>"
      ]
     },
     "metadata": {
      "needs_background": "light"
     },
     "output_type": "display_data"
    },
    {
     "data": {
      "image/png": "[encoded data removed]",
      "text/plain": [
       "<Figure size 432x288 with 1 Axes>"
      ]
     },
     "metadata": {
      "needs_background": "light"
     },
     "output_type": "display_data"
    }
   ],
   "source": [
    "for i in ['Month', 'DayOfWeek', 'UniqueCarrier']:\n",
    "    fig, ax = plt.subplots()\n",
    "    df[i].value_counts().plot(kind=\"bar\")"
   ]
  },
  {
   "cell_type": "code",
   "execution_count": 31,
   "metadata": {},
   "outputs": [
    {
     "data": {
      "image/png": "[encoded data removed]",
      "text/plain": [
       "<Figure size 432x288 with 1 Axes>"
      ]
     },
     "metadata": {
      "needs_background": "light"
     },
     "output_type": "display_data"
    },
    {
     "data": {
      "image/png": "[encoded data removed]",
      "text/plain": [
       "<Figure size 432x288 with 1 Axes>"
      ]
     },
     "metadata": {
      "needs_background": "light"
     },
     "output_type": "display_data"
    },
    {
     "data": {
      "image/png": "[encoded data removed]",
      "text/plain": [
       "<Figure size 432x288 with 1 Axes>"
      ]
     },
     "metadata": {
      "needs_background": "light"
     },
     "output_type": "display_data"
    }
   ],
   "source": [
    "for i in ['Month', 'DayOfWeek', 'UniqueCarrier']:\n",
    "    fig, ax = plt.subplots()\n",
    "    df[i].value_counts(normalize=True).plot(kind=\"bar\")\n",
    "# There is no big difference between \"month\" or \"DayOfWeek\" in terms of flight counts.\n",
    "# Southwest airline has the highest flight counts and is around twice of American airline"
   ]
  },
  {
   "cell_type": "markdown",
   "metadata": {},
   "source": [
    "> The distributions of \"Origin\" and \"Dest\" are extremely similar.\n",
    "<br>\n",
    "> The flight numbers in each months(the data only contains four months from Jan to April) and each sepcific day of week are quite even.\n",
    "<br>\n",
    "The Southwest Airline has twice flights as much as American Airline which is at the second place and then the number of flight declines gradually."
   ]
  },
  {
   "cell_type": "markdown",
   "metadata": {},
   "source": [
    "### Discuss the distribution(s) of your variable(s) of interest. Were there any unusual points? Did you need to perform any transformations?\n",
    "\n",
    "> The \"Diverted\" and \"Cancellation\" columns are very imbalanced as mentioned before, and it is completely normal since many flights could be delayed but only a few were diverted or cancelled.\n",
    "<br>\n",
    "> The numerical columns in all difference \"Delay\" columns in minutes are highly right skewed and harder to interpret. So I re-scale the y-axis with \"log\" to make it easy to see all the bins in the histogram. The right skewed shape completely makes sense because flights with longer delay should be much fewer than those with shorter delay. \n",
    "### Of the features you investigated, were there any unusual distributions? Did you perform any operations on the data to tidy, adjust, or change the form of the data? If so, why did you do this?\n",
    "\n",
    "> I did notice outliers in the \"ArrDelay\", \"DepDelay\", \"SecurityDelay\", and \"CarrierDelay\". However, I didn't remove these data points becaue I am curious about what carrier or in what location these extreme delay occurred. Are they made by the same carrier or at the same location? What is the reason of the extreme delay if the data exist. "
   ]
  },
  {
   "cell_type": "markdown",
   "metadata": {},
   "source": [
    "## Bivariate Exploration\n",
    "\n",
    "> In this section, investigate relationships between pairs of variables in your\n",
    "data. Make sure the variables that you cover here have been introduced in some\n",
    "fashion in the previous section (univariate exploration)."
   ]
  },
  {
   "cell_type": "markdown",
   "metadata": {},
   "source": [
    "### Carrier vs Diverted and Cancellation"
   ]
  },
  {
   "cell_type": "code",
   "execution_count": 3,
   "metadata": {},
   "outputs": [],
   "source": [
    "df1 = df[['UniqueCarrier','Diverted', 'Cancelled']]\n",
    "df=0"
   ]
  },
  {
   "cell_type": "code",
   "execution_count": 4,
   "metadata": {},
   "outputs": [
    {
     "data": {
      "text/plain": [
       "(2389217, 3)"
      ]
     },
     "execution_count": 4,
     "metadata": {},
     "output_type": "execute_result"
    }
   ],
   "source": [
    "df1.shape"
   ]
  },
  {
   "cell_type": "code",
   "execution_count": 6,
   "metadata": {},
   "outputs": [
    {
     "data": {
      "image/png": "[encoded data removed]",
      "text/plain": [
       "<Figure size 864x432 with 1 Axes>"
      ]
     },
     "metadata": {
      "needs_background": "light"
     },
     "output_type": "display_data"
    }
   ],
   "source": [
    "plt.figure(figsize=(12,6))\n",
    "sb.countplot(data=df1, x=\"UniqueCarrier\", hue=\"Diverted\")\n",
    "plt.yscale(\"log\")"
   ]
  },
  {
   "cell_type": "code",
   "execution_count": 20,
   "metadata": {},
   "outputs": [],
   "source": [
    "# the proportion of \"Diverted\"(which is 1 in the plot) is very small and hard to visualize, \n",
    "# rescaling with log along y-axis makes it easier to see, though might be misleading in terms of the real proportion\n",
    "# I'll calculate the proportion of \"Diverted\" and plot it directly\n",
    "df2 = df1.groupby([\"UniqueCarrier\", \"Diverted\"]).size().unstack()\n",
    "df2['proportion'] = df2[1]/df1.UniqueCarrier.value_counts()"
   ]
  },
  {
   "cell_type": "code",
   "execution_count": 27,
   "metadata": {},
   "outputs": [
    {
     "data": {
      "image/png": "[encoded data removed]",
      "text/plain": [
       "<Figure size 432x288 with 1 Axes>"
      ]
     },
     "metadata": {
      "needs_background": "light"
     },
     "output_type": "display_data"
    }
   ],
   "source": [
    "df2.proportion.plot(kind='bar')\n",
    "plt.xticks(rotation=45);\n",
    "# now it is pretty clear that Alaska Airline has the highest proportion of diversion and Hawaiian Airlines the lowest"
   ]
  },
  {
   "cell_type": "code",
   "execution_count": 30,
   "metadata": {},
   "outputs": [
    {
     "data": {
      "text/plain": [
       "<AxesSubplot:xlabel='UniqueCarrier', ylabel='count'>"
      ]
     },
     "execution_count": 30,
     "metadata": {},
     "output_type": "execute_result"
    },
    {
     "data": {
      "image/png": "[encoded data removed]",
      "text/plain": [
       "<Figure size 864x432 with 1 Axes>"
      ]
     },
     "metadata": {
      "needs_background": "light"
     },
     "output_type": "display_data"
    }
   ],
   "source": [
    "# Then I'll take a look at cancellation\n",
    "plt.figure(figsize=(12,6))\n",
    "sb.countplot(data=df1, x=\"UniqueCarrier\", hue=\"Cancelled\")"
   ]
  },
  {
   "cell_type": "code",
   "execution_count": 31,
   "metadata": {},
   "outputs": [
    {
     "data": {
      "image/png": "[encoded data removed]",
      "text/plain": [
       "<Figure size 864x432 with 1 Axes>"
      ]
     },
     "metadata": {
      "needs_background": "light"
     },
     "output_type": "display_data"
    }
   ],
   "source": [
    "# again the proportion of cancellation is too small to interpret and misleading when rescaling y-axis with log\n",
    "plt.figure(figsize=(12,6))\n",
    "sb.countplot(data=df1, x=\"UniqueCarrier\", hue=\"Cancelled\")\n",
    "plt.yscale(\"log\")"
   ]
  },
  {
   "cell_type": "code",
   "execution_count": 32,
   "metadata": {},
   "outputs": [
    {
     "data": {
      "image/png": "[encoded data removed]",
      "text/plain": [
       "<Figure size 432x288 with 1 Axes>"
      ]
     },
     "metadata": {
      "needs_background": "light"
     },
     "output_type": "display_data"
    }
   ],
   "source": [
    "df2 = df1.groupby([\"UniqueCarrier\", \"Cancelled\"]).size().unstack()\n",
    "df2['proportion'] = df2[1]/df1.UniqueCarrier.value_counts()\n",
    "df2.proportion.plot(kind='bar')\n",
    "plt.xticks(rotation=45);\n",
    "# Mesa Airlines is the one with highest cacellation rate and Frontier Airlines the lowest"
   ]
  },
  {
   "cell_type": "markdown",
   "metadata": {},
   "source": [
    "### Talk about some of the relationships you observed in this part of the investigation. How did the feature(s) of interest vary with other features in the dataset?\n",
    "\n",
    "> Your answer here!\n",
    "\n",
    "### Did you observe any interesting relationships between the other features (not the main feature(s) of interest)?\n",
    "\n",
    "> Your answer here!"
   ]
  },
  {
   "cell_type": "markdown",
   "metadata": {},
   "source": [
    "## Multivariate Exploration\n",
    "\n",
    "> Create plots of three or more variables to investigate your data even\n",
    "further. Make sure that your investigations are justified, and follow from\n",
    "your work in the previous sections."
   ]
  },
  {
   "cell_type": "code",
   "execution_count": null,
   "metadata": {},
   "outputs": [],
   "source": []
  },
  {
   "cell_type": "markdown",
   "metadata": {},
   "source": [
    "### Talk about some of the relationships you observed in this part of the investigation. Were there features that strengthened each other in terms of looking at your feature(s) of interest?\n",
    "\n",
    "> Your answer here!\n",
    "\n",
    "### Were there any interesting or surprising interactions between features?\n",
    "\n",
    "> Your answer here!"
   ]
  },
  {
   "cell_type": "markdown",
   "metadata": {},
   "source": [
    "> At the end of your report, make sure that you export the notebook as an\n",
    "html file from the `File > Download as... > HTML` menu. Make sure you keep\n",
    "track of where the exported file goes, so you can put it in the same folder\n",
    "as this notebook for project submission. Also, make sure you remove all of\n",
    "the quote-formatted guide notes like this one before you finish your report!"
   ]
  },
  {
   "cell_type": "code",
   "execution_count": null,
   "metadata": {},
   "outputs": [],
   "source": []
  }
 ],
 "metadata": {
  "kernelspec": {
   "display_name": "Python 3",
   "language": "python",
   "name": "python3"
  },
  "language_info": {
   "codemirror_mode": {
    "name": "ipython",
    "version": 3
   },
   "file_extension": ".py",
   "mimetype": "text/x-python",
   "name": "python",
   "nbconvert_exporter": "python",
   "pygments_lexer": "ipython3",
   "version": "3.8.5"
  }
 },
 "nbformat": 4,
 "nbformat_minor": 2
}
